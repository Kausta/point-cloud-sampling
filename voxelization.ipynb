{
 "cells": [
  {
   "cell_type": "markdown",
   "metadata": {},
   "source": [
    "# Voxelization"
   ]
  },
  {
   "cell_type": "code",
   "execution_count": 1,
   "metadata": {},
   "outputs": [],
   "source": [
    "import open3d as o3d\n",
    "import numpy as np\n",
    "import matplotlib.pyplot as plt\n",
    "import copy\n",
    "import os\n",
    "import IPython.display\n",
    "import PIL.Image\n",
    "import random\n",
    "\n",
    "test_data_dir = \"./test_data\""
   ]
  },
  {
   "cell_type": "markdown",
   "metadata": {},
   "source": [
    "#### Visualization Configurations"
   ]
  },
  {
   "cell_type": "code",
   "execution_count": 2,
   "metadata": {},
   "outputs": [],
   "source": [
    "# change to True if you want to interact with the visualization windows\n",
    "#interactive = not \"CI\" in os.environ\n",
    "interactive = True\n",
    "def jupyter_draw_geometries(\n",
    "    geoms,\n",
    "    window_name=\"Open3D\",\n",
    "    width=1920,\n",
    "    height=1080,\n",
    "    left=50,\n",
    "    top=50,\n",
    "    point_show_normal=False,\n",
    "    mesh_show_wireframe=False,\n",
    "    mesh_show_back_face=False,\n",
    "    lookat=None,\n",
    "    up=None,\n",
    "    front=None,\n",
    "    zoom=None,\n",
    "):\n",
    "    vis = o3d.visualization.Visualizer()\n",
    "    vis.create_window(\n",
    "        window_name=window_name,\n",
    "        width=width,\n",
    "        height=height,\n",
    "        left=left,\n",
    "        top=top,\n",
    "        visible=True,  # If false, capture_screen_float_buffer() won't work.\n",
    "    )\n",
    "    vis.get_render_option().point_show_normal = point_show_normal\n",
    "    vis.get_render_option().mesh_show_wireframe = mesh_show_wireframe\n",
    "    vis.get_render_option().mesh_show_back_face = mesh_show_back_face\n",
    "    for geom in geoms:\n",
    "        vis.add_geometry(geom)\n",
    "    if lookat is not None:\n",
    "        vis.get_view_control().set_lookat(lookat)\n",
    "    if up is not None:\n",
    "        vis.get_view_control().set_up(up)\n",
    "    if front is not None:\n",
    "        vis.get_view_control().set_front(front)\n",
    "    if zoom is not None:\n",
    "        vis.get_view_control().set_zoom(zoom)\n",
    "    if interactive:\n",
    "        vis.run()\n",
    "    else:\n",
    "        for geom in geoms:\n",
    "            vis.update_geometry(geom)\n",
    "        vis.poll_events()\n",
    "        vis.update_renderer()\n",
    "    im = vis.capture_screen_float_buffer()\n",
    "    vis.destroy_window()\n",
    "    im = (255 * np.asarray(im)).astype(np.uint8)\n",
    "    IPython.display.display(PIL.Image.fromarray(im, \"RGB\"))\n",
    "\n",
    "o3d.visualization.draw_geometries = jupyter_draw_geometries"
   ]
  },
  {
   "cell_type": "markdown",
   "metadata": {},
   "source": [
    "## Point Cloud"
   ]
  },
  {
   "cell_type": "code",
   "execution_count": 3,
   "metadata": {
    "tags": []
   },
   "outputs": [
    {
     "output_type": "execute_result",
     "data": {
      "text/plain": [
       "'\\nif not os.path.exists(pcd_path):\\n    print(f\"point cloud not exist in path: {pcd_path}\")\\nelse:\\n    # fit to unit cube\\n    pcd.scale(1 / np.max(pcd.get_max_bound() - pcd.get_min_bound()),\\n              center=pcd.get_center())\\n    pcd.colors = o3d.utility.Vector3dVector(np.random.uniform(0, 1, size=(N, 3)))\\n    o3d.visualization.draw_geometries([pcd])\\n'"
      ]
     },
     "metadata": {},
     "execution_count": 3
    }
   ],
   "source": [
    "N = 1000\n",
    "voxel_size = 0.2\n",
    "pcd_path = test_data_dir + \"/cloud_bin_0.ply\"\n",
    "pcd = o3d.io.read_point_cloud(pcd_path)\n",
    "\n",
    "\"\"\"\n",
    "if not os.path.exists(pcd_path):\n",
    "    print(f\"point cloud not exist in path: {pcd_path}\")\n",
    "else:\n",
    "    # fit to unit cube\n",
    "    pcd.scale(1 / np.max(pcd.get_max_bound() - pcd.get_min_bound()),\n",
    "              center=pcd.get_center())\n",
    "    pcd.colors = o3d.utility.Vector3dVector(np.random.uniform(0, 1, size=(N, 3)))\n",
    "    o3d.visualization.draw_geometries([pcd])\n",
    "\"\"\""
   ]
  },
  {
   "cell_type": "markdown",
   "metadata": {},
   "source": [
    "#### Downsample"
   ]
  },
  {
   "cell_type": "code",
   "execution_count": 4,
   "metadata": {
    "tags": []
   },
   "outputs": [
    {
     "output_type": "execute_result",
     "data": {
      "text/plain": [
       "'\\n# TEST\\npcdarray = np.asarray(pcd.points)\\ndownarray = np.asarray(downpcd.points)\\n\\nprint(len(pcdarray))\\nprint(out1.points[0])\\nprint(pcd.points[out3[0][0]])\\n\\n#o3d.visualization.draw_geometries([downpcd])\\n'"
      ]
     },
     "metadata": {},
     "execution_count": 4
    }
   ],
   "source": [
    "downpcd = pcd.voxel_down_sample(voxel_size=voxel_size)\n",
    "\"\"\"\n",
    "for point in np.asarray(downpcd.points):\n",
    "    print(point)\n",
    "\n",
    "\"\"\"\n",
    "\n",
    "\"\"\"\n",
    "out1, out2, out3 = pcd.voxel_down_sample_and_trace(voxel_size=voxel_size, min_bound=pcd.get_min_bound(), max_bound=pcd.get_max_bound())\n",
    "\n",
    "print(out1)\n",
    "print(out2[2])\n",
    "print(out3[0].pop())\n",
    "\"\"\"\n",
    "\n",
    "\"\"\"\n",
    "# TEST\n",
    "pcdarray = np.asarray(pcd.points)\n",
    "downarray = np.asarray(downpcd.points)\n",
    "\n",
    "print(len(pcdarray))\n",
    "print(out1.points[0])\n",
    "print(pcd.points[out3[0][0]])\n",
    "\n",
    "#o3d.visualization.draw_geometries([downpcd])\n",
    "\"\"\"\n"
   ]
  },
  {
   "cell_type": "markdown",
   "metadata": {},
   "source": [
    "### Cube Type"
   ]
  },
  {
   "cell_type": "code",
   "execution_count": 5,
   "metadata": {
    "scrolled": true
   },
   "outputs": [
    {
     "output_type": "execute_result",
     "data": {
      "text/plain": [
       "array([[ 3, 15, -8]])"
      ]
     },
     "metadata": {},
     "execution_count": 5
    }
   ],
   "source": [
    "class Cube(object):\n",
    "    def __init__(self, range):\n",
    "        \"\"\"\n",
    "        Builds a cube from x, y and z ranges\n",
    "        \"\"\"\n",
    "        self.range = range\n",
    "    \"\"\"\n",
    "    @classmethod\n",
    "    def from_points(cls, firstcorner, secondcorner):\n",
    "        \"\"\"\"\"\"\n",
    "        Builds a cube from the bounding points\n",
    "        Rectangle.from_points(Point(0, 10, -10),\n",
    "                              Point(10, 20, 0)) == Rectangle((0, 10), (10, 20), (-10, 0))\n",
    "        \"\"\"\"\"\"\n",
    "    \n",
    "        x = (a[:, None] < b).all(-1)\n",
    "        return cls(*zip(firstcorner, secondcorner))\n",
    "    \"\"\"\n",
    "    @classmethod\n",
    "    def from_voxel_size(cls, center, voxel_size):\n",
    "        \"\"\"\n",
    "        Builds a cube from the voxel size and center of the voxel\n",
    "        \"\"\"\n",
    "        cls.center = center\n",
    "        half_center = voxel_size / 2\n",
    "        x_range = (center[0] - half_center, center[0] + half_center)\n",
    "        y_range = (center[1] - half_center, center[1] + half_center)\n",
    "        z_range = (center[2] - half_center, center[2] + half_center)\n",
    "        range = np.array([[x_range[0], x_range[1], y_range[0] ,y_range[1] ,z_range[0], z_range[1]]])\n",
    "        return cls(range)\n",
    "\n",
    "    def contains_points(self, p):\n",
    "        \"\"\"\n",
    "        Returns given point is in cube\n",
    "        \"\"\"\n",
    "        less = np.repeat(self.range, repeats=[p.shape[0]], axis=0)[:, 0::2] < p\n",
    "        greater = np.repeat(self.range, repeats=[p.shape[0]], axis=0)[:, 1::2] > p\n",
    "        filter = np.logical_and(less.all(axis=1), greater.all(axis=1))\n",
    "        return p[filter]\n",
    "        \n",
    "def get_random_color():\n",
    "    return [round(random.uniform(0.0, 1.0), 1), \n",
    "    round(random.uniform(0.0, 1.0), 1), \n",
    "    round(random.uniform(0.0, 1.0), 1)]\n",
    "\n",
    "cube = Cube.from_voxel_size((5, 15, -5), 10)\n",
    "points = np.array([[3, 15, -8], [11, 15, -8]])\n",
    "\n",
    "cube.contains_points(points)\n"
   ]
  },
  {
   "cell_type": "markdown",
   "metadata": {},
   "source": [
    "#### Search Points Inside the Voxel"
   ]
  },
  {
   "cell_type": "code",
   "execution_count": 20,
   "metadata": {},
   "outputs": [
    {
     "output_type": "stream",
     "name": "stdout",
     "text": [
      "./test_data/Files/12_12_14_L4_V1.txt\n",
      "(1549, 4)\n",
      "./test_data/Files/12_12_14_L4_V2.txt\n",
      "(1661, 4)\n",
      "./test_data/Files/12_12_14_L4_V3.txt\n",
      "(1789, 4)\n",
      "./test_data/Files/12_12_14_L4_V4.txt\n",
      "(1851, 4)\n",
      "./test_data/Files/12_12_14_L4_V5.txt\n",
      "(1911, 4)\n",
      "./test_data/Files/12_12_14_L4_V6.txt\n",
      "(2040, 4)\n",
      "./test_data/Files/12_12_14_L4_V7.txt\n",
      "(2059, 4)\n",
      "./test_data/Files/12_12_14_L4_V8.txt\n",
      "(2410, 4)\n",
      "./test_data/Files/12_12_14_L4_V9.txt\n",
      "(2525, 4)\n",
      "./test_data/Files/12_12_14_L4_V10.txt\n",
      "(2302, 4)\n",
      "./test_data/Files/12_12_14_L4_V11.txt\n",
      "(2540, 4)\n",
      "./test_data/Files/12_12_14_L4_V12.txt\n",
      "(2639, 4)\n",
      "./test_data/Files/12_12_14_L4_V13.txt\n",
      "(2582, 4)\n",
      "./test_data/Files/12_12_14_L4_V14.txt\n",
      "(2641, 4)\n",
      "./test_data/Files/12_12_14_L4_V15.txt\n",
      "(2527, 4)\n",
      "./test_data/Files/12_12_14_L4_V16.txt\n",
      "(2767, 4)\n",
      "./test_data/Files/12_12_14_L4_V17.txt\n",
      "(2581, 4)\n",
      "./test_data/Files/12_12_14_L4_V18.txt\n",
      "(2637, 4)\n",
      "./test_data/Files/12_12_14_L4_V19.txt\n",
      "(2792, 4)\n",
      "./test_data/Files/12_12_14_L4_V20.txt\n",
      "(2537, 4)\n",
      "./test_data/Files/12_12_14_L4_V21.txt\n",
      "(2521, 4)\n",
      "./test_data/Files/12_12_14_L4_V22.txt\n",
      "(2410, 4)\n",
      "./test_data/Files/12_12_14_L4_V23.txt\n",
      "(2222, 4)\n",
      "./test_data/Files/12_12_14_L4_V24.txt\n",
      "(2259, 4)\n",
      "./test_data/Files/12_12_14_L4_V25.txt\n",
      "(2168, 4)\n",
      "./test_data/Files/12_12_14_L4_V26.txt\n",
      "(2117, 4)\n",
      "./test_data/Files/12_12_14_L4_V27.txt\n",
      "(2070, 4)\n",
      "./test_data/Files/12_12_14_L4_V28.txt\n",
      "(2697, 4)\n"
     ]
    },
    {
     "output_type": "error",
     "ename": "TypeError",
     "evalue": "write_point_cloud(): incompatible function arguments. The following argument types are supported:\n    1. (filename: str, pointcloud: open3d.cpu.pybind.geometry.PointCloud, write_ascii: bool = False, compressed: bool = False, print_progress: bool = False) -> bool\n\nInvoked with: './data.ply', [PointCloud with 1549 points., PointCloud with 1661 points., PointCloud with 1789 points., PointCloud with 1851 points., PointCloud with 1911 points., PointCloud with 2040 points., PointCloud with 2059 points., PointCloud with 2410 points., PointCloud with 2525 points., PointCloud with 2302 points., PointCloud with 2540 points., PointCloud with 2639 points., PointCloud with 2582 points., PointCloud with 2641 points., PointCloud with 2527 points., PointCloud with 2767 points., PointCloud with 2581 points., PointCloud with 2637 points., PointCloud with 2792 points., PointCloud with 2537 points., PointCloud with 2521 points., PointCloud with 2410 points., PointCloud with 2222 points., PointCloud with 2259 points., PointCloud with 2168 points., PointCloud with 2117 points., PointCloud with 2070 points., PointCloud with 2697 points.]",
     "traceback": [
      "\u001b[0;31m---------------------------------------------------------------------------\u001b[0m",
      "\u001b[0;31mTypeError\u001b[0m                                 Traceback (most recent call last)",
      "\u001b[0;32m<ipython-input-20-c13d4123d8d6>\u001b[0m in \u001b[0;36m<module>\u001b[0;34m\u001b[0m\n\u001b[1;32m     11\u001b[0m     \u001b[0mpcds\u001b[0m\u001b[0;34m.\u001b[0m\u001b[0mappend\u001b[0m\u001b[0;34m(\u001b[0m\u001b[0mpcd_voxel\u001b[0m\u001b[0;34m)\u001b[0m\u001b[0;34m\u001b[0m\u001b[0;34m\u001b[0m\u001b[0m\n\u001b[1;32m     12\u001b[0m \u001b[0;34m\u001b[0m\u001b[0m\n\u001b[0;32m---> 13\u001b[0;31m \u001b[0mo3d\u001b[0m\u001b[0;34m.\u001b[0m\u001b[0mio\u001b[0m\u001b[0;34m.\u001b[0m\u001b[0mwrite_point_cloud\u001b[0m\u001b[0;34m(\u001b[0m\u001b[0;34m\"./data.ply\"\u001b[0m\u001b[0;34m,\u001b[0m \u001b[0mpcds\u001b[0m\u001b[0;34m)\u001b[0m\u001b[0;34m\u001b[0m\u001b[0;34m\u001b[0m\u001b[0m\n\u001b[0m",
      "\u001b[0;31mTypeError\u001b[0m: write_point_cloud(): incompatible function arguments. The following argument types are supported:\n    1. (filename: str, pointcloud: open3d.cpu.pybind.geometry.PointCloud, write_ascii: bool = False, compressed: bool = False, print_progress: bool = False) -> bool\n\nInvoked with: './data.ply', [PointCloud with 1549 points., PointCloud with 1661 points., PointCloud with 1789 points., PointCloud with 1851 points., PointCloud with 1911 points., PointCloud with 2040 points., PointCloud with 2059 points., PointCloud with 2410 points., PointCloud with 2525 points., PointCloud with 2302 points., PointCloud with 2540 points., PointCloud with 2639 points., PointCloud with 2582 points., PointCloud with 2641 points., PointCloud with 2527 points., PointCloud with 2767 points., PointCloud with 2581 points., PointCloud with 2637 points., PointCloud with 2792 points., PointCloud with 2537 points., PointCloud with 2521 points., PointCloud with 2410 points., PointCloud with 2222 points., PointCloud with 2259 points., PointCloud with 2168 points., PointCloud with 2117 points., PointCloud with 2070 points., PointCloud with 2697 points.]"
     ]
    }
   ],
   "source": [
    "\n",
    "pcds = []\n",
    "for i in range(1,29):\n",
    "    path = f'./test_data/Files/12_12_14_L4_V{i}.txt'\n",
    "    print(path)\n",
    "    arr_data = np.genfromtxt(path, delimiter=',')\n",
    "    print(arr_data.shape)\n",
    "    pcd_voxel = o3d.geometry.PointCloud()\n",
    "    pcd_voxel.points = o3d.utility.Vector3dVector(arr_data[:,:3])\n",
    "    pcd_voxel.paint_uniform_color(get_random_color())\n",
    "    pcds.append(pcd_voxel)\n",
    "\n",
    "o3d.visualization.draw_geometries(pcds)\n",
    "o3d.io.write_point_clouds(\"./data.ply\", pcds)"
   ]
  },
  {
   "cell_type": "code",
   "execution_count": 6,
   "metadata": {
    "tags": []
   },
   "outputs": [],
   "source": [
    "pcdarray = np.asarray(pcd.points)\n",
    "downarray = np.asarray(downpcd.points)\n",
    "\n",
    "voxels = [Cube.from_voxel_size(center, voxel_size) for center in downarray]\n",
    "point_inside = []\n",
    "\n",
    "count = 0\n",
    "pcds = []\n",
    "for voxel in voxels:\n",
    "    pcd_voxel = o3d.geometry.PointCloud()\n",
    "    pcd_voxel.points = o3d.utility.Vector3dVector(voxel.contains_points(pcdarray))\n",
    "    pcd_voxel.paint_uniform_color(get_random_color())\n",
    "    count += len(pcd_voxel.points)\n",
    "    pcds.append(pcd_voxel)\n",
    "\n",
    "print(\"Total Points:\", pcdarray.shape[0])\n",
    "print(\"Count:\", count)\n",
    "o3d.visualization.draw_geometries(pcds)\n"
   ]
  },
  {
   "cell_type": "markdown",
   "metadata": {},
   "source": [
    "#### Test Voxels"
   ]
  },
  {
   "cell_type": "markdown",
   "metadata": {},
   "source": [
    "#### Voxel Visualization"
   ]
  },
  {
   "cell_type": "code",
   "execution_count": null,
   "metadata": {},
   "outputs": [],
   "source": []
  }
 ],
 "metadata": {
  "kernelspec": {
   "display_name": "Python 3",
   "language": "python",
   "name": "python3"
  },
  "language_info": {
   "codemirror_mode": {
    "name": "ipython",
    "version": 3
   },
   "file_extension": ".py",
   "mimetype": "text/x-python",
   "name": "python",
   "nbconvert_exporter": "python",
   "pygments_lexer": "ipython3",
   "version": "3.7.7-final"
  }
 },
 "nbformat": 4,
 "nbformat_minor": 2
}