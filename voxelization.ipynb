{
 "cells": [
  {
   "cell_type": "markdown",
   "metadata": {},
   "source": [
    "# Voxelization"
   ]
  },
  {
   "cell_type": "code",
   "execution_count": 1,
   "metadata": {},
   "outputs": [],
   "source": [
    "import open3d as o3d\n",
    "import numpy as np\n",
    "import matplotlib.pyplot as plt\n",
    "import copy\n",
    "import os\n",
    "import IPython.display\n",
    "import PIL.Image\n",
    "\n",
    "test_data_dir = \"./test_data\""
   ]
  },
  {
   "cell_type": "markdown",
   "metadata": {},
   "source": [
    "#### Visualization Configurations"
   ]
  },
  {
   "cell_type": "code",
   "execution_count": 2,
   "metadata": {},
   "outputs": [],
   "source": [
    "# change to True if you want to interact with the visualization windows\n",
    "interactive = not \"CI\" in os.environ\n",
    "\n",
    "def jupyter_draw_geometries(\n",
    "    geoms,\n",
    "    window_name=\"Open3D\",\n",
    "    width=1920,\n",
    "    height=1080,\n",
    "    left=50,\n",
    "    top=50,\n",
    "    point_show_normal=False,\n",
    "    mesh_show_wireframe=False,\n",
    "    mesh_show_back_face=False,\n",
    "    lookat=None,\n",
    "    up=None,\n",
    "    front=None,\n",
    "    zoom=None,\n",
    "):\n",
    "    vis = o3d.visualization.Visualizer()\n",
    "    vis.create_window(\n",
    "        window_name=window_name,\n",
    "        width=width,\n",
    "        height=height,\n",
    "        left=left,\n",
    "        top=top,\n",
    "        visible=True,  # If false, capture_screen_float_buffer() won't work.\n",
    "    )\n",
    "    vis.get_render_option().point_show_normal = point_show_normal\n",
    "    vis.get_render_option().mesh_show_wireframe = mesh_show_wireframe\n",
    "    vis.get_render_option().mesh_show_back_face = mesh_show_back_face\n",
    "    for geom in geoms:\n",
    "        vis.add_geometry(geom)\n",
    "    if lookat is not None:\n",
    "        vis.get_view_control().set_lookat(lookat)\n",
    "    if up is not None:\n",
    "        vis.get_view_control().set_up(up)\n",
    "    if front is not None:\n",
    "        vis.get_view_control().set_front(front)\n",
    "    if zoom is not None:\n",
    "        vis.get_view_control().set_zoom(zoom)\n",
    "    if interactive:\n",
    "        vis.run()\n",
    "    else:\n",
    "        for geom in geoms:\n",
    "            vis.update_geometry(geom)\n",
    "        vis.poll_events()\n",
    "        vis.update_renderer()\n",
    "    im = vis.capture_screen_float_buffer()\n",
    "    vis.destroy_window()\n",
    "    im = (255 * np.asarray(im)).astype(np.uint8)\n",
    "    IPython.display.display(PIL.Image.fromarray(im, \"RGB\"))\n",
    "\n",
    "o3d.visualization.draw_geometries = jupyter_draw_geometries"
   ]
  },
  {
   "cell_type": "markdown",
   "metadata": {},
   "source": [
    "## Point Cloud"
   ]
  },
  {
   "cell_type": "code",
   "execution_count": 3,
   "metadata": {
    "tags": []
   },
   "outputs": [],
   "source": [
    "N = 1000\n",
    "voxel_size = 0.02\n",
    "pcd_path = test_data_dir + \"/cloud_bin_0.ply\"\n",
    "pcd = o3d.io.read_point_cloud(pcd_path)\n",
    "\n",
    "if not os.path.exists(pcd_path):\n",
    "    print(f\"point cloud not exist in path: {pcd_path}\")\n",
    "else:\n",
    "    \"\"\"\n",
    "    # fit to unit cube\n",
    "    pcd.scale(1 / np.max(pcd.get_max_bound() - pcd.get_min_bound()),\n",
    "              center=pcd.get_center())\n",
    "    pcd.colors = o3d.utility.Vector3dVector(np.random.uniform(0, 1, size=(N, 3)))\n",
    "    o3d.visualization.draw_geometries([pcd])\n",
    "    \"\"\""
   ]
  },
  {
   "cell_type": "markdown",
   "metadata": {},
   "source": [
    "#### Downsample"
   ]
  },
  {
   "cell_type": "code",
   "execution_count": 4,
   "metadata": {
    "tags": []
   },
   "outputs": [
    {
     "name": "stdout",
     "output_type": "stream",
     "text": [
      "258342\n",
      "[-0.58200002 -1.42799997  3.49399996]\n",
      "[-0.58200002 -1.42799997  3.49399996]\n"
     ]
    }
   ],
   "source": [
    "downpcd = pcd.voxel_down_sample(voxel_size=voxel_size)\n",
    "\n",
    "\"\"\"\n",
    "for point in np.asarray(downpcd.points):\n",
    "    print(point)\n",
    "\n",
    "\"\"\"\n",
    "\n",
    "out1, out2, out3 = pcd.voxel_down_sample_and_trace(voxel_size=voxel_size, min_bound=pcd.get_min_bound(), max_bound=pcd.get_max_bound())\n",
    "\n",
    "\"\"\"\n",
    "print(out1)\n",
    "print(out2[2])\n",
    "print(out3[0].pop())\n",
    "\"\"\"\n",
    "\n",
    "# TEST\n",
    "pcdarray = np.asarray(pcd.points)\n",
    "downarray = np.asarray(downpcd.points)\n",
    "\n",
    "print(len(pcdarray))\n",
    "print(out1.points[0])\n",
    "print(pcd.points[out3[0][0]])\n",
    "\n",
    "#o3d.visualization.draw_geometries([downpcd])\n"
   ]
  },
  {
   "source": [
    "### Cube Type"
   ],
   "cell_type": "markdown",
   "metadata": {}
  },
  {
   "cell_type": "code",
   "execution_count": 1,
   "metadata": {
    "scrolled": true
   },
   "outputs": [
    {
     "output_type": "error",
     "ename": "NameError",
     "evalue": "name 'np' is not defined",
     "traceback": [
      "\u001b[0;31m---------------------------------------------------------------------------\u001b[0m",
      "\u001b[0;31mNameError\u001b[0m                                 Traceback (most recent call last)",
      "\u001b[0;32m<ipython-input-1-f50e890e7e82>\u001b[0m in \u001b[0;36m<module>\u001b[0;34m\u001b[0m\n\u001b[1;32m     39\u001b[0m \u001b[0;34m\u001b[0m\u001b[0m\n\u001b[1;32m     40\u001b[0m \u001b[0mcube\u001b[0m \u001b[0;34m=\u001b[0m \u001b[0mCube\u001b[0m\u001b[0;34m.\u001b[0m\u001b[0mfrom_voxel_size\u001b[0m\u001b[0;34m(\u001b[0m\u001b[0;34m(\u001b[0m\u001b[0;36m5\u001b[0m\u001b[0;34m,\u001b[0m \u001b[0;36m15\u001b[0m\u001b[0;34m,\u001b[0m \u001b[0;34m-\u001b[0m\u001b[0;36m5\u001b[0m\u001b[0;34m)\u001b[0m\u001b[0;34m,\u001b[0m \u001b[0;36m10\u001b[0m\u001b[0;34m)\u001b[0m\u001b[0;34m\u001b[0m\u001b[0;34m\u001b[0m\u001b[0m\n\u001b[0;32m---> 41\u001b[0;31m \u001b[0minside_point\u001b[0m \u001b[0;34m=\u001b[0m \u001b[0mnp\u001b[0m\u001b[0;34m.\u001b[0m\u001b[0marray\u001b[0m\u001b[0;34m(\u001b[0m\u001b[0;34m[\u001b[0m\u001b[0;36m3\u001b[0m\u001b[0;34m,\u001b[0m \u001b[0;36m15\u001b[0m\u001b[0;34m,\u001b[0m \u001b[0;34m-\u001b[0m\u001b[0;36m8\u001b[0m\u001b[0;34m]\u001b[0m\u001b[0;34m)\u001b[0m\u001b[0;34m\u001b[0m\u001b[0;34m\u001b[0m\u001b[0m\n\u001b[0m\u001b[1;32m     42\u001b[0m \u001b[0moutside_point\u001b[0m \u001b[0;34m=\u001b[0m \u001b[0mnp\u001b[0m\u001b[0;34m.\u001b[0m\u001b[0marray\u001b[0m\u001b[0;34m(\u001b[0m\u001b[0;34m[\u001b[0m\u001b[0;36m11\u001b[0m\u001b[0;34m,\u001b[0m \u001b[0;36m15\u001b[0m\u001b[0;34m,\u001b[0m \u001b[0;34m-\u001b[0m\u001b[0;36m8\u001b[0m\u001b[0;34m]\u001b[0m\u001b[0;34m)\u001b[0m\u001b[0;34m\u001b[0m\u001b[0;34m\u001b[0m\u001b[0m\n\u001b[1;32m     43\u001b[0m \u001b[0;34m\u001b[0m\u001b[0m\n",
      "\u001b[0;31mNameError\u001b[0m: name 'np' is not defined"
     ]
    }
   ],
   "source": [
    "class Cube(object):\n",
    "    def __init__(self, xrange, yrange, zrange):\n",
    "        \"\"\"\n",
    "        Builds a cube from x, y and z ranges\n",
    "        \"\"\"\n",
    "        self.xrange = xrange\n",
    "        self.yrange = yrange\n",
    "        self.zrange = zrange\n",
    "        self.points_inside = []\n",
    "\n",
    "    @classmethod\n",
    "    def from_points(cls, firstcorner, secondcorner):\n",
    "        \"\"\"\n",
    "        Builds a cube from the bounding points\n",
    "        Rectangle.from_points(Point(0, 10, -10),\n",
    "                              Point(10, 20, 0)) == Rectangle((0, 10), (10, 20), (-10, 0))\n",
    "        \"\"\"\n",
    "        return cls(*zip(firstcorner, secondcorner))\n",
    "\n",
    "    @classmethod\n",
    "    def from_voxel_size(cls, center, voxel_size):\n",
    "        \"\"\"\n",
    "        Builds a cube from the voxel size and center of the voxel\n",
    "        \"\"\"\n",
    "        half_center = voxel_size / 2\n",
    "        x_range = (center[0] - half_center, center[0] + half_center)\n",
    "        y_range = (center[1] - half_center, center[1] + half_center)\n",
    "        z_range = (center[2] - half_center, center[2] + half_center)\n",
    "        return cls(x_range, y_range, z_range)\n",
    "\n",
    "    def contains_point(self, p):\n",
    "        \"\"\"\n",
    "        Returns given point is in cube\n",
    "        \"\"\"\n",
    "        return all([self.xrange[0] <= p[0] <= self.xrange[1],\n",
    "                    self.yrange[0] <= p[1] <= self.yrange[1],\n",
    "                    self.zrange[0] <= p[2] <= self.zrange[1]])\n",
    "\n",
    "\n",
    "cube = Cube.from_voxel_size((5, 15, -5), 10)\n",
    "inside_point = np.array([3, 15, -8])\n",
    "outside_point = np.array([11, 15, -8])\n",
    "\n",
    "print(cube.contains_point(inside_point)) # True\n",
    "cube.contains_point(outside_point)  # False"
   ]
  },
  {
   "source": [
    "#### Search Points Inside the Voxel"
   ],
   "cell_type": "markdown",
   "metadata": {}
  },
  {
   "cell_type": "code",
   "execution_count": null,
   "metadata": {},
   "outputs": [],
   "source": [
    "pcdarray = np.asarray(pcd.points)\n",
    "downarray = np.asarray(downpcd.points)\n",
    "\n",
    "voxels = [Cube.from_voxel_size(center, voxel_size) for center in downarray]\n",
    "\n",
    "for point in pcdarray:\n",
    "    for voxel in voxels:\n",
    "        if voxel.contains_point(point):\n",
    "            voxel.points_inside.append(point)\n",
    "            break\n"
   ]
  },
  {
   "source": [
    "#### Test Voxels"
   ],
   "cell_type": "markdown",
   "metadata": {}
  },
  {
   "cell_type": "code",
   "execution_count": null,
   "metadata": {},
   "outputs": [],
   "source": [
    "print(voxels[0].points_inside)"
   ]
  },
  {
   "source": [
    "#### Voxel Visualization"
   ],
   "cell_type": "markdown",
   "metadata": {}
  },
  {
   "cell_type": "code",
   "execution_count": 72,
   "metadata": {},
   "outputs": [
    {
     "data": {
      "image/png": "[encoded data removed]",
      "text/plain": [
       "<PIL.Image.Image image mode=RGB size=1920x1080 at 0x7FA62ECAB910>"
      ]
     },
     "metadata": {},
     "output_type": "display_data"
    }
   ],
   "source": [
    "voxel_grid = o3d.geometry.VoxelGrid.create_from_point_cloud(pcd,\n",
    "                                                            voxel_size=voxel_size)\n",
    "#print(voxel_grid.get_voxel(np.ndarray(shape=(3,1), dtype=float, order='F')))\n",
    "o3d.visualization.draw_geometries([voxel_grid])"
   ]
  }
 ],
 "metadata": {
  "kernelspec": {
   "display_name": "Python 3",
   "language": "python",
   "name": "python3"
  },
  "language_info": {
   "codemirror_mode": {
    "name": "ipython",
    "version": 3
   },
   "file_extension": ".py",
   "mimetype": "text/x-python",
   "name": "python",
   "nbconvert_exporter": "python",
   "pygments_lexer": "ipython3",
   "version": "3.7.7-final"
  }
 },
 "nbformat": 4,
 "nbformat_minor": 2
}