{
 "metadata": {
  "language_info": {
   "codemirror_mode": {
    "name": "ipython",
    "version": 3
   },
   "file_extension": ".py",
   "mimetype": "text/x-python",
   "name": "python",
   "nbconvert_exporter": "python",
   "pygments_lexer": "ipython3",
   "version": "3.7.7-final"
  },
  "orig_nbformat": 2,
  "kernelspec": {
   "name": "python3",
   "display_name": "Python 3"
  }
 },
 "nbformat": 4,
 "nbformat_minor": 2,
 "cells": [
  {
   "source": [
    "# Voxelization and Visualization of Arch Data"
   ],
   "cell_type": "markdown",
   "metadata": {}
  },
  {
   "cell_type": "code",
   "execution_count": null,
   "metadata": {},
   "outputs": [],
   "source": [
    "import open3d as o3d\n",
    "import numpy as np\n",
    "import matplotlib.pyplot as plt\n",
    "import copy\n",
    "import os\n",
    "import IPython.display\n",
    "import PIL.Image\n",
    "import random\n",
    "import enum"
   ]
  },
  {
   "source": [
    "#### Visualization Configurations"
   ],
   "cell_type": "markdown",
   "metadata": {}
  },
  {
   "cell_type": "code",
   "execution_count": null,
   "metadata": {},
   "outputs": [],
   "source": [
    "# change to True if you want to interact with the visualization windows\n",
    "#interactive = not \"CI\" in os.environ\n",
    "interactive = True\n",
    "def jupyter_draw_geometries(\n",
    "    geoms,\n",
    "    window_name=\"Open3D\",\n",
    "    width=1920,\n",
    "    height=1080,\n",
    "    left=50,\n",
    "    top=50,\n",
    "    point_show_normal=False,\n",
    "    mesh_show_wireframe=False,\n",
    "    mesh_show_back_face=False,\n",
    "    lookat=None,\n",
    "    up=None,\n",
    "    front=None,\n",
    "    zoom=None,\n",
    "):\n",
    "    vis = o3d.visualization.Visualizer()\n",
    "    vis.create_window(\n",
    "        window_name=window_name,\n",
    "        width=width,\n",
    "        height=height,\n",
    "        left=left,\n",
    "        top=top,\n",
    "        visible=True,  # If false, capture_screen_float_buffer() won't work.\n",
    "    )\n",
    "    vis.get_render_option().point_show_normal = point_show_normal\n",
    "    vis.get_render_option().mesh_show_wireframe = mesh_show_wireframe\n",
    "    vis.get_render_option().mesh_show_back_face = mesh_show_back_face\n",
    "    for geom in geoms:\n",
    "        vis.add_geometry(geom)\n",
    "    if lookat is not None:\n",
    "        vis.get_view_control().set_lookat(lookat)\n",
    "    if up is not None:\n",
    "        vis.get_view_control().set_up(up)\n",
    "    if front is not None:\n",
    "        vis.get_view_control().set_front(front)\n",
    "    if zoom is not None:\n",
    "        vis.get_view_control().set_zoom(zoom)\n",
    "    if interactive:\n",
    "        vis.run()\n",
    "    else:\n",
    "        for geom in geoms:\n",
    "            vis.update_geometry(geom)\n",
    "        vis.poll_events()\n",
    "        vis.update_renderer()\n",
    "    im = vis.capture_screen_float_buffer()\n",
    "    vis.destroy_window()\n",
    "    im = (255 * np.asarray(im)).astype(np.uint8)\n",
    "    IPython.display.display(PIL.Image.fromarray(im, \"RGB\"))\n",
    "\n",
    "o3d.visualization.draw_geometries = jupyter_draw_geometries"
   ]
  },
  {
   "source": [
    "## Data Processing\n"
   ],
   "cell_type": "markdown",
   "metadata": {}
  },
  {
   "source": [
    "### Helper Functions"
   ],
   "cell_type": "markdown",
   "metadata": {}
  },
  {
   "cell_type": "code",
   "execution_count": null,
   "metadata": {},
   "outputs": [],
   "source": [
    "def load_point_clouds(dataset):\n",
    "    pcds = []\n",
    "    for data in dataset:\n",
    "        pcd = o3d.geometry.PointCloud()\n",
    "        pcd.points = o3d.utility.Vector3dVector(data[:,:3])\n",
    "        pcd.paint_uniform_color(get_random_color())\n",
    "        pcds.append(pcd)\n",
    "        print(len(data))\n",
    "    return pcds"
   ]
  },
  {
   "cell_type": "code",
   "execution_count": null,
   "metadata": {},
   "outputs": [],
   "source": [
    "def get_random_color():\n",
    "    return [round(random.uniform(0.0, 1.0), 1), \n",
    "    round(random.uniform(0.0, 1.0), 1), \n",
    "    round(random.uniform(0.0, 1.0), 1)]"
   ]
  },
  {
   "cell_type": "code",
   "execution_count": null,
   "metadata": {},
   "outputs": [],
   "source": [
    "def combine_point_clouds(pcds):\n",
    "    pcd_combined = o3d.geometry.PointCloud()\n",
    "    for point_id in range(len(pcds)):\n",
    "        pcd_combined += pcds[point_id]\n",
    "    return pcd_combined"
   ]
  },
  {
   "source": [
    "### Load Data"
   ],
   "cell_type": "markdown",
   "metadata": {}
  },
  {
   "cell_type": "code",
   "execution_count": null,
   "metadata": {},
   "outputs": [],
   "source": [
    "first_data = []\n",
    "second_data = []\n",
    "\n",
    "for i in range(1, 29):\n",
    "    first_path = f'./test_data/arch/12_12_14_L4_V{i}.txt'\n",
    "    first_data_arr = np.genfromtxt(first_path, delimiter=',')\n",
    "    first_data.append(first_data_arr)\n",
    "    \n",
    "    if i in range (14, 17):\n",
    "        continue\n",
    "    \n",
    "    second_path = f'./test_data/arch/13_11_23_L4_V{i}.txt'\n",
    "    second_data_arr = np.genfromtxt(second_path, delimiter=',')\n",
    "    second_data.append(second_data_arr)\n"
   ]
  },
  {
   "cell_type": "code",
   "execution_count": null,
   "metadata": {},
   "outputs": [],
   "source": [
    "first_pcds = load_point_clouds(first_data)\n",
    "second_pcds = load_point_clouds(second_data)\n",
    "\n",
    "first_pcd_combined = combine_point_clouds(first_pcds)\n",
    "second_pcd_combined = combine_point_clouds(second_pcds)\n",
    "\n",
    "pcd_combined = combine_point_clouds([first_pcds_combined, second_pcds_combined])\n",
    "\n"
   ]
  },
  {
   "source": [
    "### Write Data\n"
   ],
   "cell_type": "markdown",
   "metadata": {}
  },
  {
   "cell_type": "code",
   "execution_count": null,
   "metadata": {},
   "outputs": [],
   "source": [
    "o3d.io.write_point_cloud(\"./out/first_combined_clouds.ply\", first_pcd_combined)\n",
    "o3d.io.write_point_cloud(\"./out/second_combined_clouds.ply\", second_pcd_combined)\n",
    "o3d.io.write_point_cloud(\"./out/combined_clouds.ply\", pcd_combined)"
   ]
  },
  {
   "cell_type": "code",
   "execution_count": null,
   "metadata": {},
   "outputs": [],
   "source": []
  }
 ]
}